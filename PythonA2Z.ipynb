{
  "nbformat": 4,
  "nbformat_minor": 0,
  "metadata": {
    "colab": {
      "provenance": [],
      "authorship_tag": "ABX9TyMjU+B+sNgrh/e9yjxvU47D",
      "include_colab_link": true
    },
    "kernelspec": {
      "name": "python3",
      "display_name": "Python 3"
    },
    "language_info": {
      "name": "python"
    }
  },
  "cells": [
    {
      "cell_type": "markdown",
      "metadata": {
        "id": "view-in-github",
        "colab_type": "text"
      },
      "source": [
        "<a href=\"https://colab.research.google.com/github/niomisamani/PythonA2Z/blob/main/PythonA2Z.ipynb\" target=\"_parent\"><img src=\"https://colab.research.google.com/assets/colab-badge.svg\" alt=\"Open In Colab\"/></a>"
      ]
    },
    {
      "cell_type": "markdown",
      "source": [
        "# Program Efficiency"
      ],
      "metadata": {
        "id": "vXBnRRw6NHBg"
      }
    },
    {
      "cell_type": "markdown",
      "source": [
        "### Calculate time"
      ],
      "metadata": {
        "id": "5tVLHeFKNKSi"
      }
    },
    {
      "cell_type": "code",
      "execution_count": null,
      "metadata": {
        "colab": {
          "base_uri": "https://localhost:8080/"
        },
        "id": "hsccp-c_ND6E",
        "outputId": "22551007-ebcd-44d3-c74f-afcf85305469"
      },
      "outputs": [
        {
          "output_type": "stream",
          "name": "stdout",
          "text": [
            "Sum is = 500000500000  time taken is = 0.2141413688659668\n"
          ]
        }
      ],
      "source": [
        "#Sum of n numbers\n",
        "\n",
        "import time\n",
        "def sum_n(n):\n",
        "  start_time=time.time()\n",
        "  sum=0\n",
        "  for i in range(1,n+1):\n",
        "    sum=sum+i\n",
        "  end = time.time()\n",
        "  t=end-start_time\n",
        "  print(\"Sum is =\",sum,\" time taken is =\",t)\n",
        "sum_n(1000000)"
      ]
    },
    {
      "cell_type": "code",
      "source": [
        "import time\n",
        "start=time.time()\n",
        "def sum_n(n):\n",
        "  return (n*(n+1))/2\n",
        "end=time.time()\n",
        "t=end-start\n",
        "print(\"Sum is =\",sum_n(1000000))\n",
        "print(\"Time taken is =\",t)"
      ],
      "metadata": {
        "colab": {
          "base_uri": "https://localhost:8080/"
        },
        "id": "LDTX4kBnNrMa",
        "outputId": "66860f4b-89ea-4475-a089-dd4e58fb9d87"
      },
      "execution_count": null,
      "outputs": [
        {
          "output_type": "stream",
          "name": "stdout",
          "text": [
            "Sum is = 500000500000.0\n",
            "Time taken is = 0.0001220703125\n"
          ]
        }
      ]
    },
    {
      "cell_type": "markdown",
      "source": [
        "Performance is inversly proportional to wall clock time"
      ],
      "metadata": {
        "id": "BkdBbmDZOCva"
      }
    },
    {
      "cell_type": "markdown",
      "source": [
        "## OOPS"
      ],
      "metadata": {
        "id": "3IZK9TWaPdKL"
      }
    },
    {
      "cell_type": "markdown",
      "source": [
        "### Class is blueprint.\n",
        "\n",
        "\n",
        "*   a = 10 a is an object of integer class.\n",
        "*   To define a data type we must create a class for the same.\n",
        "*   Datatype is a class. A variable is an object of the class.\n",
        "*   Class consists of Data or property and its functions or behavior.\n",
        "*   Let a class be car , its attributes could be color , brand , type . Its functions could be calculate speed , mileage , open sunroof , connect gps.\n"
      ],
      "metadata": {
        "id": "2RT3pqhtPzN3"
      }
    },
    {
      "cell_type": "markdown",
      "source": [
        "+ Top Section: Contains the name of the class.\n",
        "+ Middle Section: Contains the member variables (attributes) of the class.\n",
        "+ Bottom Section: Contains the member functions (methods) of the class."
      ],
      "metadata": {
        "id": "C9FYBcafYPZK"
      }
    },
    {
      "cell_type": "markdown",
      "source": [
        "![image.png](data:image/png;base64,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)"
      ],
      "metadata": {
        "id": "_ncSkrV0YWy9"
      }
    },
    {
      "cell_type": "markdown",
      "source": [
        "![image.png](data:image/png;base64,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)"
      ],
      "metadata": {
        "id": "MrxUAwBoYeZA"
      }
    },
    {
      "cell_type": "markdown",
      "source": [
        "+ The variables are generally private so represented with '-'\n",
        "+ The function are generally priavte so represented with '+'"
      ],
      "metadata": {
        "id": "ZbVsjwnjZAF4"
      }
    },
    {
      "cell_type": "code",
      "source": [
        "#Basic structure\n",
        "#Rules - Name of class should be in pascal case (First letter of each word is capital) or camel case (First letter of first word is small).\n",
        "#The name of variables of functions should be in snake case (words separated by underscore)\n",
        "\n",
        "class Car:\n",
        "  color = \"blue\" #data\n",
        "  model = \"sports\" #data\n",
        "  def calculateAvgSpeed(km,time):\n",
        "    return km/time"
      ],
      "metadata": {
        "id": "saU0w9w8N9b-"
      },
      "execution_count": null,
      "outputs": []
    },
    {
      "cell_type": "markdown",
      "source": [
        "### Object"
      ],
      "metadata": {
        "id": "v3YlcxNBZQN0"
      }
    },
    {
      "cell_type": "markdown",
      "source": [
        "Object is an instace of the class.\n",
        "Syntax : objectname = ClassName()\n",
        "Examples\n",
        "+ Car -> WagonR -> wagonr=Car()\n",
        "+ Sports -> Cricket -> cricket = Sports()\n",
        "+ Animals -> Lion -> lion=Animals()\n",
        "\n"
      ],
      "metadata": {
        "id": "vPxXRcWvZS_e"
      }
    },
    {
      "cell_type": "markdown",
      "source": [
        "We often create objects in python using obejct literal - a simpler way to define an object for a built in class.\n",
        "\n",
        "+ l=list()\n",
        "+ l=[1,2,3]\n",
        "+ city = str()\n",
        "+ city = \"Sam\""
      ],
      "metadata": {
        "id": "ntrI6LP9Z14l"
      }
    },
    {
      "cell_type": "markdown",
      "source": [
        "## Software for an ATM Machine\n"
      ],
      "metadata": {
        "id": "XwZLSqReaU4E"
      }
    },
    {
      "cell_type": "markdown",
      "source": [
        "Functions vs Methods\n",
        "+ Methods are special functions written inside a class.\n",
        "+ len() is a function. Can be used with various objects.\n",
        "+ While calling a function you pass object inside function.\n",
        "+ append() is a method.\n",
        "+ list.append(x) - you pass parameter inside the method append which is defined inside the list class.\n",
        "\n",
        "\n"
      ],
      "metadata": {
        "id": "oCqVagoWa1Ou"
      }
    },
    {
      "cell_type": "code",
      "source": [
        "\n",
        "class ATM:\n",
        "  def __init__(self): #init is a constructor which is special method that automatically gets called when an object of the class is created.\n",
        "    self.pin=\"\"\n",
        "    self.balance=0\n",
        "    self.menu()\n",
        "  def menu(self):\n",
        "    user_input=input(\"\"\"\n",
        "    Hello, how would you like to proceed?\n",
        "    1. Enter 1 to create pin\n",
        "    2. Enter 2 to deposit\n",
        "    3. Enter 3 to withdraw\n",
        "    4. Enter 4 to check balance\n",
        "    5. Enter 5 to exit\n",
        "    \"\"\")\n",
        "    if user_input==\"1\":\n",
        "      self.create_pin()\n",
        "    elif user_input==\"2\":\n",
        "      self.deposit()\n",
        "    elif user_input==\"3\":\n",
        "      self.withdraw()\n",
        "    elif user_input==\"4\":\n",
        "      self.check_balance\n",
        "    else:\n",
        "      print(\"bye\")\n",
        "  def create_pin(self):\n",
        "    user_pin=input(\"Enter your pin\")\n",
        "    self.pin=user_pin\n",
        "    print(\"Pin Set successfully \")\n",
        "  def deposit(self):\n",
        "        temp = input(\"Enter your pin\")\n",
        "        if temp == self.pin:\n",
        "            amount = int(input(\"Enter the amount\"))\n",
        "            self.balance = self.balance + amount\n",
        "            print(\"Deposit successfully\")\n",
        "        else:\n",
        "            print(\"Invalid pin\")\n",
        "\n",
        "  def withdraw(self):\n",
        "        temp = input(\"Enter your pin\")\n",
        "        if temp == self.pin:\n",
        "            amount  = int(input(\"Enter the amount\"))\n",
        "            if amount < self.balance:\n",
        "                self.balance = self.balance - amount\n",
        "                print(\"operational successful\")\n",
        "            else:\n",
        "                print(\"Insufficient  fund\")\n",
        "\n",
        "  def check_balance(self):\n",
        "        temp = input(\"Enter your pin\")\n",
        "        if temp == self.pin:\n",
        "            print(self.balance)\n",
        "        else:\n",
        "            print(\"Invalid pin\")\n",
        "\n",
        "sbi = ATM()\n",
        "sbi.deposit()\n",
        "sbi.deposit()\n",
        "sbi.check_balance()\n",
        "sbi.withdraw()\n",
        "sbi.check_balance()\n",
        "\n"
      ],
      "metadata": {
        "colab": {
          "base_uri": "https://localhost:8080/"
        },
        "id": "IWCYxqMeayjh",
        "outputId": "ab969b8d-5d89-4771-f533-1a490ea285d6"
      },
      "execution_count": 3,
      "outputs": [
        {
          "output_type": "stream",
          "name": "stdout",
          "text": [
            "\n",
            "    Hello, how would you like to proceed?\n",
            "    1. Enter 1 to create pin\n",
            "    2. Enter 2 to deposit\n",
            "    3. Enter 3 to withdraw\n",
            "    4. Enter 4 to check balance\n",
            "    5. Enter 5 to exit\n",
            "    1\n",
            "Enter your pin1472\n",
            "Pin Set successfully \n",
            "Enter your pin1472\n",
            "Enter the amount1500\n",
            "Deposit successfully\n",
            "Enter your pin1472\n",
            "Enter the amount2100\n",
            "Deposit successfully\n",
            "Enter your pin1472\n",
            "3600\n",
            "Enter your pin1472\n",
            "Enter the amount2000\n",
            "operational successful\n",
            "Enter your pin1472\n",
            "1600\n"
          ]
        }
      ]
    },
    {
      "cell_type": "code",
      "source": [],
      "metadata": {
        "id": "SfHAE3dzc8hn"
      },
      "execution_count": null,
      "outputs": []
    }
  ]
}