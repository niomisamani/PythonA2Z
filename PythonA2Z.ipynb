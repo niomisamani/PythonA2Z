{
  "nbformat": 4,
  "nbformat_minor": 0,
  "metadata": {
    "colab": {
      "provenance": [],
      "authorship_tag": "ABX9TyPccQ5wI8b0CtwcAvgBwmYg",
      "include_colab_link": true
    },
    "kernelspec": {
      "name": "python3",
      "display_name": "Python 3"
    },
    "language_info": {
      "name": "python"
    }
  },
  "cells": [
    {
      "cell_type": "markdown",
      "metadata": {
        "id": "view-in-github",
        "colab_type": "text"
      },
      "source": [
        "<a href=\"https://colab.research.google.com/github/niomisamani/PythonA2Z/blob/main/PythonA2Z.ipynb\" target=\"_parent\"><img src=\"https://colab.research.google.com/assets/colab-badge.svg\" alt=\"Open In Colab\"/></a>"
      ]
    },
    {
      "cell_type": "markdown",
      "source": [
        "# Program Efficiency"
      ],
      "metadata": {
        "id": "vXBnRRw6NHBg"
      }
    },
    {
      "cell_type": "markdown",
      "source": [
        "### Calculate time"
      ],
      "metadata": {
        "id": "5tVLHeFKNKSi"
      }
    },
    {
      "cell_type": "code",
      "execution_count": null,
      "metadata": {
        "colab": {
          "base_uri": "https://localhost:8080/"
        },
        "id": "hsccp-c_ND6E",
        "outputId": "22551007-ebcd-44d3-c74f-afcf85305469"
      },
      "outputs": [
        {
          "output_type": "stream",
          "name": "stdout",
          "text": [
            "Sum is = 500000500000  time taken is = 0.2141413688659668\n"
          ]
        }
      ],
      "source": [
        "#Sum of n numbers\n",
        "\n",
        "import time\n",
        "def sum_n(n):\n",
        "  start_time=time.time()\n",
        "  sum=0\n",
        "  for i in range(1,n+1):\n",
        "    sum=sum+i\n",
        "  end = time.time()\n",
        "  t=end-start_time\n",
        "  print(\"Sum is =\",sum,\" time taken is =\",t)\n",
        "sum_n(1000000)"
      ]
    },
    {
      "cell_type": "code",
      "source": [
        "import time\n",
        "start=time.time()\n",
        "def sum_n(n):\n",
        "  return (n*(n+1))/2\n",
        "end=time.time()\n",
        "t=end-start\n",
        "print(\"Sum is =\",sum_n(1000000))\n",
        "print(\"Time taken is =\",t)"
      ],
      "metadata": {
        "colab": {
          "base_uri": "https://localhost:8080/"
        },
        "id": "LDTX4kBnNrMa",
        "outputId": "66860f4b-89ea-4475-a089-dd4e58fb9d87"
      },
      "execution_count": null,
      "outputs": [
        {
          "output_type": "stream",
          "name": "stdout",
          "text": [
            "Sum is = 500000500000.0\n",
            "Time taken is = 0.0001220703125\n"
          ]
        }
      ]
    },
    {
      "cell_type": "markdown",
      "source": [
        "Performance is inversly proportional to wall clock time"
      ],
      "metadata": {
        "id": "BkdBbmDZOCva"
      }
    },
    {
      "cell_type": "markdown",
      "source": [
        "## OOPS"
      ],
      "metadata": {
        "id": "3IZK9TWaPdKL"
      }
    },
    {
      "cell_type": "markdown",
      "source": [
        "### Class is blueprint.\n",
        "\n",
        "\n",
        "*   a = 10 a is an object of integer class.\n",
        "*   To define a data type we must create a class for the same.\n",
        "*   Datatype is a class. A variable is an object of the class.\n",
        "\n"
      ],
      "metadata": {
        "id": "2RT3pqhtPzN3"
      }
    },
    {
      "cell_type": "code",
      "source": [],
      "metadata": {
        "id": "saU0w9w8N9b-"
      },
      "execution_count": null,
      "outputs": []
    }
  ]
}